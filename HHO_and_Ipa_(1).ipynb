{
  "cells": [
    {
      "cell_type": "markdown",
      "metadata": {
        "id": "view-in-github",
        "colab_type": "text"
      },
      "source": [
        "<a href=\"https://colab.research.google.com/github/AnkitKumar2698/HHO-and-IPO-in-Python/blob/master/HHO_and_Ipa_(1).ipynb\" target=\"_parent\"><img src=\"https://colab.research.google.com/assets/colab-badge.svg\" alt=\"Open In Colab\"/></a>"
      ]
    },
    {
      "cell_type": "code",
      "source": [
        "!pip install solution"
      ],
      "metadata": {
        "colab": {
          "base_uri": "https://localhost:8080/"
        },
        "id": "vFAoTyzS2dcj",
        "outputId": "39c3dcae-9bf4-4c10-833a-c613a5d28efe"
      },
      "execution_count": null,
      "outputs": [
        {
          "output_type": "stream",
          "name": "stdout",
          "text": [
            "Collecting solution\n",
            "  Downloading Solution-5.4.0.tar.gz (35 kB)\n",
            "Requirement already satisfied: markupsafe in /usr/local/lib/python3.7/dist-packages (from solution) (2.0.1)\n",
            "Requirement already satisfied: pytz in /usr/local/lib/python3.7/dist-packages (from solution) (2022.1)\n",
            "Building wheels for collected packages: solution\n",
            "  Building wheel for solution (setup.py) ... \u001b[?25l\u001b[?25hdone\n",
            "  Created wheel for solution: filename=Solution-5.4.0-py3-none-any.whl size=53256 sha256=8b3d8428a408030c39549ee2fa14a472b6d7301aa8a2bd6564bc988441497bee\n",
            "  Stored in directory: /root/.cache/pip/wheels/a8/a5/49/7f174d0a7b11ec6fcd0451ee5408cbaddc7e73a77e245b239c\n",
            "Successfully built solution\n",
            "Installing collected packages: solution\n",
            "Successfully installed solution-5.4.0\n"
          ]
        }
      ]
    },
    {
      "cell_type": "code",
      "execution_count": null,
      "metadata": {
        "id": "9SCfclwy2Ve4"
      },
      "outputs": [],
      "source": [
        "import random\n",
        "import numpy\n",
        "import numpy as np\n",
        "import math\n",
        "import time\n",
        "import solution"
      ]
    },
    {
      "cell_type": "markdown",
      "source": [
        "Exploration Phase \n",
        "\n",
        "\n",
        "1. When hawks perch randomly and wait to detect pray \n",
        "2. Based on two approaches q>=0.5 and q<0.5\n",
        "\n",
        "\n",
        "\n",
        "based on two "
      ],
      "metadata": {
        "id": "5k2jU8fq2h8g"
      }
    },
    {
      "cell_type": "code",
      "source": [
        "# #for t iterations\n",
        "# t=500\n",
        "# Xrandom = np.random.rand(t);\n",
        "# q=random.uniform(0,1)\n",
        "# r=random.uniform(0,1)\n",
        "# X = [0]\n",
        "# if q>=0.5 :\n",
        "#   for i in range(1,t+1) :\n",
        "#     X[i].append((Xrandom[i-1]-r)*(Xrandom[i]-2*r*X[i-1]))\n",
        "# else :\n",
        "#   for i in range(1,t+1) :\n",
        "#     X[i].append((Xrabbit -)*(Xrandom[i]-2*r*X[i-1]))\n",
        "# print(X)\n",
        " "
      ],
      "metadata": {
        "id": "NtnGD1Ux2bMD"
      },
      "execution_count": null,
      "outputs": []
    },
    {
      "cell_type": "code",
      "source": [
        ""
      ],
      "metadata": {
        "id": "aGojr3kh2bKW"
      },
      "execution_count": null,
      "outputs": []
    },
    {
      "cell_type": "code",
      "execution_count": null,
      "metadata": {
        "id": "3D_hNh6b2Ve8"
      },
      "outputs": [],
      "source": [
        "# #code of HHO\n",
        "\n",
        "# def HHO(population_Size,ub,lb,max_iter,random_Hawks) :\n",
        "#     rabit_location = numpy.zeros(random_Hawks)\n",
        "#     alpha= numpy.ones(population_Size+1)\n",
        "#     beta = numpy.ones(population_Size+1)\n",
        "#     y = numpy.ones(population_Size+1)\n",
        "#     position = np.array([])\n",
        "#     EndFitness =0\n",
        "#     r=1\n",
        "#     for x in range(1,max_iter+1) :\n",
        "#         total=0\n",
        "#         f1=0\n",
        "#         f2=0\n",
        "#         f3=0\n",
        "#         for i in range(1,population_Size+1):\n",
        "#             for j in range(1,population_Size+1) :\n",
        "#                 f1+=alpha[j]*(1//(1+np.exp(beta[i]+y[j])))\n",
        "#             for j in range(1,population_Size+1) :\n",
        "#                 f2+= alpha[j]*beta[j]*(np.exp(-(beta[j]+y[j]))//(1+np.exp(-(beta[j]+y[i]))))\n",
        "#             for j in range (1,population_Size+1) :\n",
        "#                 f3+= alpha[j]*(beta[j]**2)*2* (np.exp(-2*(beta[j]-y[i]))//(1+np.exp(-(beta[j]+y[j]**3))))\n",
        "\n",
        "#             total += i*f2+f1+r*np.exp(f1)//population_Size + 0.5*(f2+f1)\n",
        "\n",
        "#             Fit_ness = total\n",
        "            \n",
        "#             if Fit_ness >lb and Fit_ness<ub :\n",
        "#                 position=np.append(position,i)\n",
        "#                 solution = np.random.rand(1)\n",
        "#                 SolutionAnd = solution and i\n",
        "#                 SolutionOr  = SolutionAnd or (i+1)\n",
        "#                 if SolutionOr < i :\n",
        "#                     del posision[-1]\n",
        "#                     position=np.append(position,SolutionOr)\n",
        "#                     EndFitness = Fit_ness\n",
        "#                     break\n",
        "           \n",
        "#     return [position,EndFitness]\n",
        "            \n",
        "                \n",
        "                \n",
        "    "
      ]
    },
    {
      "cell_type": "code",
      "source": [
        "def HHO(population_size, max_iter,LB,UB) :\n",
        "  t=0\n",
        "  hawksPosition = np.random.rand(max_iter+1,population_size)\n",
        "  while(max_iter):\n",
        "    hawks = np.random.rand(population_size)  \n",
        "    #calculate fitness\n",
        "    \n",
        "    for i,hawk  in enumerate(hawks) :\n",
        "      initial_Energy = 2*random.randint(1,5)-1\n",
        "      jump_length = 2*(1-random.randint(1,5))\n",
        "      Energy = 2*initial_Energy*(1-i/max_iter)\n",
        "      Xrabbit = random.randint(0,1)\n",
        "      if Energy>=1 :  #exploration phase\n",
        "           q = random.randint(0,1)\n",
        "           r = random.randint(0,1)\n",
        "           r1 =random.randint(0,1)\n",
        "           r2 = random.randint(0,1)\n",
        "           r3 =  random.randint(0,1)\n",
        "           r4 = random.randint(0,1)\n",
        "           \n",
        "           if q>=0.5:\n",
        "             hawksPosition[t+1][i]=(hawk-r1)*(hawk-2*r2*hawksPosition[t][i])\n",
        "           if q<0.5 :\n",
        "             Xmean = 0\n",
        "             for ans in hawksPosition[t] :\n",
        "               Xmean = Xmean+ans\n",
        "             Xmean = Xmean//population_size\n",
        "             hawksPosition[t+1][i]=(Xrabbit-Xmean)-r3*(LB + r4*(UB-LB))\n",
        "      if Energy<1 :\n",
        "        r5 = random.randint(0,1)\n",
        "        j=2*(1-r5)\n",
        "        if r>=0.5 and Energy >=0.5 :\n",
        "          deltaX= Xrabbit - hawksPosition[t][i]\n",
        "          hawksPosition[t+1][i]=deltaX - Energy*(j-hawksPosition[t][i])\n",
        "        elif r>=0.5 and Energy < 0.5 :\n",
        "          deltaX= Xrabbit - hawksPosition[t][i]\n",
        "          hawksPosition[t+1][i] = Xrabbit - Energy*deltaX\n",
        "        elif r<0.5 and Energy >=0.5 :\n",
        "          hawksPosition[t+1][i] = Xrabbit - Energy*(j*Xrabbit- hawksPosition[t+1][i])\n",
        "        elif r<0.5 and Energy <0.5 :\n",
        "          hawksPosition[t+1][i] = Xrabbit - Energy*(j*Xrabbit- hawksPosition[t+1][i])\n",
        "    max_iter=max_iter-1\n",
        "    t=t+1\n",
        "  return hawksPosition[max_iter]"
      ],
      "metadata": {
        "id": "VuQgMn5P6RDZ"
      },
      "execution_count": null,
      "outputs": []
    },
    {
      "cell_type": "code",
      "source": [
        ""
      ],
      "metadata": {
        "id": "UeUQkLwJhtef"
      },
      "execution_count": null,
      "outputs": []
    },
    {
      "cell_type": "code",
      "execution_count": null,
      "metadata": {
        "id": "e1TvPr-42Ve-"
      },
      "outputs": [],
      "source": [
        "def ipa(whobest,totalIter,TolCon,TolFun,max_fun_eval):\n",
        "    if TolCon <= 10**-18 :\n",
        "        return\n",
        "    if TolFun <= 10**-18 :\n",
        "        return\n",
        "    if max_fun_eval <= 200000 :\n",
        "        return\n",
        "    if totalIter <= 3000 :\n",
        "        return\n",
        "    fitness = 0\n",
        "    bestWeight=whobest[0] \n",
        "    m=11\n",
        "    r=1\n",
        "    y = np.random.rand(m)\n",
        "    alpha= np.random.rand(m)\n",
        "    beta = np.random.rand(len(whobest))\n",
        "    while(totalIter) :\n",
        "        total=0\n",
        "        f1=0\n",
        "        f2=0\n",
        "        f3=0\n",
        "        for i,x in enumerate(whobest):\n",
        "            for j in range(1,m) :\n",
        "                f1+=alpha[j]*(1//(1+np.exp(beta[i]+y[j])))\n",
        "            for j in range(1,m) :\n",
        "                f2+= alpha[j]*beta[j]*(np.exp(-(beta[j]+y[j]))//(1+np.exp(-(beta[j]+y[i]))))\n",
        "            for j in range (1,m) :\n",
        "                f3+= alpha[j]*(beta[j]**2)*2* (np.exp(-2*(beta[j]-y[i]))//(1+np.exp(-(beta[j]+y[j]**3))))\n",
        "            k= random.randint(0,1)\n",
        "            total = x*f2+f1+x*k*np.exp(f1)//len(whobest) + 0.5*(f2**2+f1**2)\n",
        "            if total>fitness :\n",
        "              fitness = total\n",
        "              bestWeight = x\n",
        "\n",
        "        if fitness <= 10**-13 :\n",
        "            break\n",
        "        totalIter = totalIter-1\n",
        "    return bestWeight\n",
        "\n"
      ]
    },
    {
      "cell_type": "code",
      "execution_count": null,
      "metadata": {
        "id": "RSdcAj3v2Ve_",
        "outputId": "c8af3579-f869-4157-f860-3b21bda930a1",
        "colab": {
          "base_uri": "https://localhost:8080/"
        }
      },
      "outputs": [
        {
          "output_type": "stream",
          "name": "stdout",
          "text": [
            "0.3243914462891877\n"
          ]
        }
      ],
      "source": [
        "best_hho = HHO(11, 500,-30,30)\n",
        "totalIter = 3000+1\n",
        "TolCon = 10**-18+1\n",
        "TolFun = 10**-18+1\n",
        "max_fun_eval = 200000+1\n",
        "bestHHO = ipa(best_hho,totalIter,TolCon,TolFun,max_fun_eval)\n",
        "\n",
        "print(bestHHO)"
      ]
    },
    {
      "cell_type": "code",
      "execution_count": null,
      "metadata": {
        "id": "n30VoaQa2VfB"
      },
      "outputs": [],
      "source": [
        ""
      ]
    },
    {
      "cell_type": "code",
      "execution_count": null,
      "metadata": {
        "id": "r8S09aPV2VfB"
      },
      "outputs": [],
      "source": [
        ""
      ]
    },
    {
      "cell_type": "code",
      "execution_count": null,
      "metadata": {
        "id": "f6AnuRdB2VfC",
        "colab": {
          "base_uri": "https://localhost:8080/"
        },
        "outputId": "e39706b8-87a3-412f-b442-326af5f46f82"
      },
      "outputs": [
        {
          "output_type": "execute_result",
          "data": {
            "text/plain": [
              "array([5.63592131, 3.8179672 , 5.67728554, 5.5111008 , 3.56140475,\n",
              "       5.55850276, 3.62687158, 3.70854078, 3.53471628, 5.39463439,\n",
              "       3.59835402])"
            ]
          },
          "metadata": {},
          "execution_count": 15
        }
      ],
      "source": [
        "r_value= np.arange(0,1.1,0.1)\n",
        "result=np.array([])\n",
        "errorArr = np.array([])\n",
        "y = np.random.rand(11)\n",
        "alpha= np.random.rand(11)\n",
        "m=11\n",
        "beta = np.random.rand(len(best_hho))\n",
        "for i,x in enumerate(best_hho):\n",
        "  total=0\n",
        "  f1=0\n",
        "  f2=0\n",
        "  f3=0\n",
        "  for j in range(1,m) :\n",
        "      f2+= alpha[j]*beta[j]*(np.exp(-(beta[j]+y[j]))/(1+np.exp(-(beta[j]*r_value[i]+y[i]))))\n",
        "  k= random.randint(0,1)\n",
        "  result=np.append(result,f2)\n",
        "  c = 8-2*k+ (((8-2*k)**2)-4*(k**2))//2*k\n",
        "  second_eq= 2*np.log(c+1/c*(r_value[i]**2)+1)\n",
        "  error = second_eq-f2\n",
        "  errorArr = np.append(errorArr,error)\n",
        "errorArr"
      ]
    },
    {
      "cell_type": "code",
      "source": [
        "import pandas as pd"
      ],
      "metadata": {
        "id": "5i-i5wvKbsnA"
      },
      "execution_count": null,
      "outputs": []
    },
    {
      "cell_type": "code",
      "execution_count": null,
      "metadata": {
        "id": "2S4MDhft2VfC"
      },
      "outputs": [],
      "source": [
        "table = pd.DataFrame({\n",
        "    'r' : r_value,\n",
        "    'presented_Scheme' : errorArr\n",
        "})"
      ]
    },
    {
      "cell_type": "code",
      "source": [
        "table"
      ],
      "metadata": {
        "colab": {
          "base_uri": "https://localhost:8080/",
          "height": 394
        },
        "id": "daoCxrrJbrC5",
        "outputId": "e7d9d79d-7285-471a-8ccf-01432a22358a"
      },
      "execution_count": null,
      "outputs": [
        {
          "output_type": "execute_result",
          "data": {
            "text/plain": [
              "      r  presented_Scheme\n",
              "0   0.0          5.635921\n",
              "1   0.1          3.817967\n",
              "2   0.2          5.677286\n",
              "3   0.3          5.511101\n",
              "4   0.4          3.561405\n",
              "5   0.5          5.558503\n",
              "6   0.6          3.626872\n",
              "7   0.7          3.708541\n",
              "8   0.8          3.534716\n",
              "9   0.9          5.394634\n",
              "10  1.0          3.598354"
            ],
            "text/html": [
              "\n",
              "  <div id=\"df-7c1fd3d0-4d53-4876-bc92-cac40aa2ef51\">\n",
              "    <div class=\"colab-df-container\">\n",
              "      <div>\n",
              "<style scoped>\n",
              "    .dataframe tbody tr th:only-of-type {\n",
              "        vertical-align: middle;\n",
              "    }\n",
              "\n",
              "    .dataframe tbody tr th {\n",
              "        vertical-align: top;\n",
              "    }\n",
              "\n",
              "    .dataframe thead th {\n",
              "        text-align: right;\n",
              "    }\n",
              "</style>\n",
              "<table border=\"1\" class=\"dataframe\">\n",
              "  <thead>\n",
              "    <tr style=\"text-align: right;\">\n",
              "      <th></th>\n",
              "      <th>r</th>\n",
              "      <th>presented_Scheme</th>\n",
              "    </tr>\n",
              "  </thead>\n",
              "  <tbody>\n",
              "    <tr>\n",
              "      <th>0</th>\n",
              "      <td>0.0</td>\n",
              "      <td>5.635921</td>\n",
              "    </tr>\n",
              "    <tr>\n",
              "      <th>1</th>\n",
              "      <td>0.1</td>\n",
              "      <td>3.817967</td>\n",
              "    </tr>\n",
              "    <tr>\n",
              "      <th>2</th>\n",
              "      <td>0.2</td>\n",
              "      <td>5.677286</td>\n",
              "    </tr>\n",
              "    <tr>\n",
              "      <th>3</th>\n",
              "      <td>0.3</td>\n",
              "      <td>5.511101</td>\n",
              "    </tr>\n",
              "    <tr>\n",
              "      <th>4</th>\n",
              "      <td>0.4</td>\n",
              "      <td>3.561405</td>\n",
              "    </tr>\n",
              "    <tr>\n",
              "      <th>5</th>\n",
              "      <td>0.5</td>\n",
              "      <td>5.558503</td>\n",
              "    </tr>\n",
              "    <tr>\n",
              "      <th>6</th>\n",
              "      <td>0.6</td>\n",
              "      <td>3.626872</td>\n",
              "    </tr>\n",
              "    <tr>\n",
              "      <th>7</th>\n",
              "      <td>0.7</td>\n",
              "      <td>3.708541</td>\n",
              "    </tr>\n",
              "    <tr>\n",
              "      <th>8</th>\n",
              "      <td>0.8</td>\n",
              "      <td>3.534716</td>\n",
              "    </tr>\n",
              "    <tr>\n",
              "      <th>9</th>\n",
              "      <td>0.9</td>\n",
              "      <td>5.394634</td>\n",
              "    </tr>\n",
              "    <tr>\n",
              "      <th>10</th>\n",
              "      <td>1.0</td>\n",
              "      <td>3.598354</td>\n",
              "    </tr>\n",
              "  </tbody>\n",
              "</table>\n",
              "</div>\n",
              "      <button class=\"colab-df-convert\" onclick=\"convertToInteractive('df-7c1fd3d0-4d53-4876-bc92-cac40aa2ef51')\"\n",
              "              title=\"Convert this dataframe to an interactive table.\"\n",
              "              style=\"display:none;\">\n",
              "        \n",
              "  <svg xmlns=\"http://www.w3.org/2000/svg\" height=\"24px\"viewBox=\"0 0 24 24\"\n",
              "       width=\"24px\">\n",
              "    <path d=\"M0 0h24v24H0V0z\" fill=\"none\"/>\n",
              "    <path d=\"M18.56 5.44l.94 2.06.94-2.06 2.06-.94-2.06-.94-.94-2.06-.94 2.06-2.06.94zm-11 1L8.5 8.5l.94-2.06 2.06-.94-2.06-.94L8.5 2.5l-.94 2.06-2.06.94zm10 10l.94 2.06.94-2.06 2.06-.94-2.06-.94-.94-2.06-.94 2.06-2.06.94z\"/><path d=\"M17.41 7.96l-1.37-1.37c-.4-.4-.92-.59-1.43-.59-.52 0-1.04.2-1.43.59L10.3 9.45l-7.72 7.72c-.78.78-.78 2.05 0 2.83L4 21.41c.39.39.9.59 1.41.59.51 0 1.02-.2 1.41-.59l7.78-7.78 2.81-2.81c.8-.78.8-2.07 0-2.86zM5.41 20L4 18.59l7.72-7.72 1.47 1.35L5.41 20z\"/>\n",
              "  </svg>\n",
              "      </button>\n",
              "      \n",
              "  <style>\n",
              "    .colab-df-container {\n",
              "      display:flex;\n",
              "      flex-wrap:wrap;\n",
              "      gap: 12px;\n",
              "    }\n",
              "\n",
              "    .colab-df-convert {\n",
              "      background-color: #E8F0FE;\n",
              "      border: none;\n",
              "      border-radius: 50%;\n",
              "      cursor: pointer;\n",
              "      display: none;\n",
              "      fill: #1967D2;\n",
              "      height: 32px;\n",
              "      padding: 0 0 0 0;\n",
              "      width: 32px;\n",
              "    }\n",
              "\n",
              "    .colab-df-convert:hover {\n",
              "      background-color: #E2EBFA;\n",
              "      box-shadow: 0px 1px 2px rgba(60, 64, 67, 0.3), 0px 1px 3px 1px rgba(60, 64, 67, 0.15);\n",
              "      fill: #174EA6;\n",
              "    }\n",
              "\n",
              "    [theme=dark] .colab-df-convert {\n",
              "      background-color: #3B4455;\n",
              "      fill: #D2E3FC;\n",
              "    }\n",
              "\n",
              "    [theme=dark] .colab-df-convert:hover {\n",
              "      background-color: #434B5C;\n",
              "      box-shadow: 0px 1px 3px 1px rgba(0, 0, 0, 0.15);\n",
              "      filter: drop-shadow(0px 1px 2px rgba(0, 0, 0, 0.3));\n",
              "      fill: #FFFFFF;\n",
              "    }\n",
              "  </style>\n",
              "\n",
              "      <script>\n",
              "        const buttonEl =\n",
              "          document.querySelector('#df-7c1fd3d0-4d53-4876-bc92-cac40aa2ef51 button.colab-df-convert');\n",
              "        buttonEl.style.display =\n",
              "          google.colab.kernel.accessAllowed ? 'block' : 'none';\n",
              "\n",
              "        async function convertToInteractive(key) {\n",
              "          const element = document.querySelector('#df-7c1fd3d0-4d53-4876-bc92-cac40aa2ef51');\n",
              "          const dataTable =\n",
              "            await google.colab.kernel.invokeFunction('convertToInteractive',\n",
              "                                                     [key], {});\n",
              "          if (!dataTable) return;\n",
              "\n",
              "          const docLinkHtml = 'Like what you see? Visit the ' +\n",
              "            '<a target=\"_blank\" href=https://colab.research.google.com/notebooks/data_table.ipynb>data table notebook</a>'\n",
              "            + ' to learn more about interactive tables.';\n",
              "          element.innerHTML = '';\n",
              "          dataTable['output_type'] = 'display_data';\n",
              "          await google.colab.output.renderOutput(dataTable, element);\n",
              "          const docLink = document.createElement('div');\n",
              "          docLink.innerHTML = docLinkHtml;\n",
              "          element.appendChild(docLink);\n",
              "        }\n",
              "      </script>\n",
              "    </div>\n",
              "  </div>\n",
              "  "
            ]
          },
          "metadata": {},
          "execution_count": 18
        }
      ]
    },
    {
      "cell_type": "code",
      "source": [
        "from matplotlib import pyplot as plt"
      ],
      "metadata": {
        "id": "WxZT_kESbwRW"
      },
      "execution_count": 13,
      "outputs": []
    },
    {
      "cell_type": "code",
      "source": [
        "np.linspace(0,1,10)"
      ],
      "metadata": {
        "id": "zRRlokPIdBzx",
        "colab": {
          "base_uri": "https://localhost:8080/"
        },
        "outputId": "40b6dcaa-8ebf-4c5a-e71a-2c611bd13825"
      },
      "execution_count": null,
      "outputs": [
        {
          "output_type": "execute_result",
          "data": {
            "text/plain": [
              "array([0.        , 0.11111111, 0.22222222, 0.33333333, 0.44444444,\n",
              "       0.55555556, 0.66666667, 0.77777778, 0.88888889, 1.        ])"
            ]
          },
          "metadata": {},
          "execution_count": 10
        }
      ]
    },
    {
      "cell_type": "code",
      "source": [
        "import numpy as np"
      ],
      "metadata": {
        "id": "H1WoGyTepFI8"
      },
      "execution_count": 6,
      "outputs": []
    },
    {
      "cell_type": "markdown",
      "source": [
        "The fp3"
      ],
      "metadata": {
        "id": "DcSOUXf-KQWm"
      }
    },
    {
      "cell_type": "code",
      "source": [
        "r_value= np.arange(0,1.1,0.1)"
      ],
      "metadata": {
        "id": "61PgrAehKToF"
      },
      "execution_count": 7,
      "outputs": []
    },
    {
      "cell_type": "code",
      "source": [
        "fp3=[]\n",
        "for r in r_value :\n",
        "  fp3.append(0.6225//(1+np.exp(-(-1.2394*r-0.4822))) + 0.5051//(1+np.exp(-(-0.1259*r+0.3036)))+1.2411//(1+np.exp(-(0.2885*r-0.3305))) +-0.0242//(1+np.exp(-(0.8264*r+2.4998)))+0.3273//(1+np.exp(-(0.5566*r+2.4040)))+0.3166//(1+np.exp(-(0.2858*r+3.3263)))+0.0644//(1+np.exp(-(0.6161*r-0.4396)))-0.1052//(1+np.exp(-(3.9905*r+4.9455)))-0.1614//(1+np.exp(-(2.7049*r-1.1122))))"
      ],
      "metadata": {
        "id": "Zzl8h2eKKTkK"
      },
      "execution_count": 8,
      "outputs": []
    },
    {
      "cell_type": "code",
      "source": [
        "fp3"
      ],
      "metadata": {
        "colab": {
          "base_uri": "https://localhost:8080/"
        },
        "id": "VyWeWX7uKTea",
        "outputId": "41d3eae5-8bd2-45e1-f938-f5622f2ab3f8"
      },
      "execution_count": 9,
      "outputs": [
        {
          "output_type": "execute_result",
          "data": {
            "text/plain": [
              "[-1.0, -1.0, -1.0, -1.0, -1.0, -1.0, -1.0, -1.0, -1.0, -1.0, -1.0]"
            ]
          },
          "metadata": {},
          "execution_count": 9
        }
      ]
    },
    {
      "cell_type": "code",
      "source": [
        "fp1=[]\n",
        "for r in r_value :\n",
        "  fp1.append(-2.4437//(1+np.exp(-(0.8139*r-1.7018))) - 0.0517//(1+np.exp(-(-2.7373*r-6.6069)))- 0.3931//(1+np.exp(-(-1.7127*r-1.3277))) - 0.7008//(1+np.exp(-(-1.4116*r-3.5158)))- 0.6344//(1+np.exp(-(-1.5508*r-0.2983)))+ 1.9485//(1+np.exp(-(0.8134*r+0.7198)))-0.8558//(1+np.exp(-(-1.6453*r-2.2241)))-2.1013//(1+np.exp(-(1.1560*r-6.5078)))-0.8568//(1+np.exp(-(-0.9503*r-2.1156)))-0.5059//(1+np.exp(-(-0.5330*r-1.9114))))"
      ],
      "metadata": {
        "id": "wWJqk-Q0MRVB"
      },
      "execution_count": 5,
      "outputs": []
    },
    {
      "cell_type": "code",
      "source": [
        "fp1=[]\n",
        "for r in r_value :\n",
        "  fp1.append(-2.4437/(1+np.exp(-(0.8139*r-1.7018))) - 0.0517/(1+np.exp(-(-2.7373*r-6.6069)))- 0.3931/(1+np.exp(-(-1.7127*r-1.3277))) - 0.7008/(1+np.exp(-(-1.4116*r-3.5158)))- 0.6344/(1+np.exp(-(-1.5508*r-0.2983)))+ 1.9485/(1+np.exp(-(0.8134*r+0.7198)))-0.8558/(1+np.exp(-(-1.6453*r-2.2241)))-2.1013/(1+np.exp(-(1.1560*r-6.5078)))-0.8568/(1+np.exp(-(-0.9503*r-2.1156)))-0.5059/(1+np.exp(-(-0.5330*r-1.9114))))"
      ],
      "metadata": {
        "id": "ge2LDeWg271a"
      },
      "execution_count": 11,
      "outputs": []
    },
    {
      "cell_type": "code",
      "source": [
        "fp1"
      ],
      "metadata": {
        "colab": {
          "base_uri": "https://localhost:8080/"
        },
        "id": "FooSycoU4aX4",
        "outputId": "23beef94-a7e4-46a4-99f1-6b60bc54fab7"
      },
      "execution_count": 12,
      "outputs": [
        {
          "output_type": "execute_result",
          "data": {
            "text/plain": [
              "[0.31667279852595526,\n",
              " 0.38306391130388806,\n",
              " 0.4424878569155011,\n",
              " 0.4949043453054584,\n",
              " 0.5403404567208454,\n",
              " 0.5788859945299697,\n",
              " 0.6106873096624197,\n",
              " 0.6359400043853941,\n",
              " 0.6548810156909352,\n",
              " 0.6677805856351289,\n",
              " 0.6749345592816604]"
            ]
          },
          "metadata": {},
          "execution_count": 12
        }
      ]
    },
    {
      "cell_type": "code",
      "source": [
        "plt.scatter(r_value,fp1)"
      ],
      "metadata": {
        "colab": {
          "base_uri": "https://localhost:8080/",
          "height": 282
        },
        "id": "_2GCOFrl4tIM",
        "outputId": "5a29b3ed-76e3-4081-ef68-110f544a03a0"
      },
      "execution_count": 16,
      "outputs": [
        {
          "output_type": "execute_result",
          "data": {
            "text/plain": [
              "<matplotlib.collections.PathCollection at 0x7f20d3f41910>"
            ]
          },
          "metadata": {},
          "execution_count": 16
        },
        {
          "output_type": "display_data",
          "data": {
            "text/plain": [
              "<Figure size 432x288 with 1 Axes>"
            ],
            "image/png": "[encoded data removed]"
          },
          "metadata": {
            "needs_background": "light"
          }
        }
      ]
    },
    {
      "cell_type": "markdown",
      "source": [
        "fp1=[]\n",
        "for r in r_value :\n",
        "  fp1.append(-2.4437//(1+np.exp(-(0.8139*r-1.7018))) - 0.0517//(1+np.exp(-(-2.7373*r-6.6069)))- 0.3931//(1+np.exp(-(-1.7127*r-1.3277))) - 0.7008//(1+np.exp(-(-1.4116*r-3.5158)))- 0.6344//(1+np.exp(-(-1.5508*r-0.2983)))+ 1.9485//(1+np.exp(-(0.8134*r+0.7198)))-0.8558//(1+np.exp(-(-1.6453*r-2.2241)))-2.1013//(1+np.exp(-(1.1560*r-6.5078)))-0.8568//(1+np.exp(-(-0.9503*r-2.1156)))-0.5059//(1+np.exp(-(-0.5330*r-1.9114))))"
      ],
      "metadata": {
        "id": "zdakLUAH4iYX"
      }
    },
    {
      "cell_type": "code",
      "source": [
        "\n",
        "\n",
        "\n",
        "\n",
        "\n",
        "\n"
      ],
      "metadata": {
        "id": "vBD9XBqt4bAX"
      },
      "execution_count": null,
      "outputs": []
    }
  ],
  "metadata": {
    "kernelspec": {
      "display_name": "Python 3 (ipykernel)",
      "language": "python",
      "name": "python3"
    },
    "language_info": {
      "codemirror_mode": {
        "name": "ipython",
        "version": 3
      },
      "file_extension": ".py",
      "mimetype": "text/x-python",
      "name": "python",
      "nbconvert_exporter": "python",
      "pygments_lexer": "ipython3",
      "version": "3.9.2"
    },
    "colab": {
      "name": "HHO and Ipa (1).ipynb",
      "provenance": [],
      "collapsed_sections": [],
      "include_colab_link": true
    }
  },
  "nbformat": 4,
  "nbformat_minor": 0
}